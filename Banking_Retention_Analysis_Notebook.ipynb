{
 "cells": [
  {
   "cell_type": "markdown",
   "id": "8c7fd44c",
   "metadata": {},
   "source": [
    "# 🏦 Banking Customer Retention Analysis\n",
    "\n",
    "This notebook supports the analysis of banking customer churn and retention trends. It complements the Power BI dashboard provided in the project and explores patterns using Python."
   ]
  },
  {
   "cell_type": "markdown",
   "id": "b31a8974",
   "metadata": {},
   "source": [
    "## 📁 Dataset Overview\n",
    "\n",
    "- Source: `data/bank_customer_data.csv`\n",
    "- Columns: Customer ID, Age, Tenure, Balance, Products Owned, Active Status, etc."
   ]
  },
  {
   "cell_type": "code",
   "execution_count": null,
   "id": "2a3bffd0",
   "metadata": {},
   "outputs": [],
   "source": [
    "import pandas as pd\n",
    "import matplotlib.pyplot as plt\n",
    "import seaborn as sns\n",
    "\n",
    "# Load dataset\n",
    "df = pd.read_csv('data/bank_customer_data.csv')\n",
    "df.columns = [col.strip().lower().replace(' ', '_') for col in df.columns]\n",
    "df.head()"
   ]
  },
  {
   "cell_type": "markdown",
   "id": "ca7436ac",
   "metadata": {},
   "source": [
    "## 🔍 Churn by Tenure"
   ]
  },
  {
   "cell_type": "code",
   "execution_count": null,
   "id": "56f640aa",
   "metadata": {},
   "outputs": [],
   "source": [
    "plt.figure(figsize=(8,5))\n",
    "sns.histplot(data=df, x='tenure', hue='churn', multiple='stack', bins=10, palette='Set2')\n",
    "plt.title('Churn Distribution by Tenure')\n",
    "plt.xlabel('Tenure (Years)')\n",
    "plt.ylabel('Customer Count')\n",
    "plt.tight_layout()\n",
    "plt.show()"
   ]
  },
  {
   "cell_type": "markdown",
   "id": "087c3ea5",
   "metadata": {},
   "source": [
    "## 💰 Estimated Salary vs Churn"
   ]
  },
  {
   "cell_type": "code",
   "execution_count": null,
   "id": "57c77cad",
   "metadata": {},
   "outputs": [],
   "source": [
    "plt.figure(figsize=(8,5))\n",
    "sns.histplot(data=df, x='estimated_salary', hue='churn', multiple='stack', bins=30, palette='Set1')\n",
    "plt.title('Estimated Salary vs Churn')\n",
    "plt.xlabel('Estimated Salary')\n",
    "plt.ylabel('Customer Count')\n",
    "plt.tight_layout()\n",
    "plt.show()"
   ]
  },
  {
   "cell_type": "markdown",
   "id": "54b73462",
   "metadata": {},
   "source": [
    "## 📦 Products Owned vs Churn"
   ]
  },
  {
   "cell_type": "code",
   "execution_count": null,
   "id": "d57f5e4c",
   "metadata": {},
   "outputs": [],
   "source": [
    "plt.figure(figsize=(8,5))\n",
    "sns.countplot(data=df, x='products_number', hue='churn', palette='Set3')\n",
    "plt.title('Churn by Number of Products')\n",
    "plt.xlabel('Number of Products')\n",
    "plt.ylabel('Customer Count')\n",
    "plt.tight_layout()\n",
    "plt.show()"
   ]
  },
  {
   "cell_type": "markdown",
   "id": "5aad2b6f",
   "metadata": {},
   "source": [
    "## 📊 Power BI Dashboard Companion\n",
    "\n",
    "This analysis is complemented by an interactive Power BI report found in the `powerbi/` folder. The report includes churn segmentation, product breakdown, and KPI filtering."
   ]
  }
 ],
 "metadata": {},
 "nbformat": 4,
 "nbformat_minor": 5
}
